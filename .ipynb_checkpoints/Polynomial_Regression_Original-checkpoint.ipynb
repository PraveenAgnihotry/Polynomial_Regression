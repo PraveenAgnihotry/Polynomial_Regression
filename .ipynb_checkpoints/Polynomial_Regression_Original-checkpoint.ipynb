{
 "cells": [
  {
   "cell_type": "code",
   "execution_count": 1,
   "id": "cd272468-408a-4cbf-8505-0fa1a80ed1bf",
   "metadata": {},
   "outputs": [],
   "source": [
    "import numpy as np\n",
    "import pandas as pd\n",
    "import matplotlib.pyplot as plt"
   ]
  },
  {
   "cell_type": "code",
   "execution_count": 2,
   "id": "bc4b2b99-21c7-45fb-a7c5-8342a5045ca5",
   "metadata": {},
   "outputs": [],
   "source": [
    "# Reading the excel data\n",
    "df_raw = pd.read_excel('Data Take Home Assignment 1 Exercise A.xlsx', sheet_name='Sheet5', engine='openpyxl')"
   ]
  },
  {
   "cell_type": "code",
   "execution_count": 3,
   "id": "1a4e61d0-6907-4ce2-a7d5-89a972ceba5e",
   "metadata": {
    "scrolled": true
   },
   "outputs": [
    {
     "data": {
      "text/html": [
       "<div>\n",
       "<style scoped>\n",
       "    .dataframe tbody tr th:only-of-type {\n",
       "        vertical-align: middle;\n",
       "    }\n",
       "\n",
       "    .dataframe tbody tr th {\n",
       "        vertical-align: top;\n",
       "    }\n",
       "\n",
       "    .dataframe thead th {\n",
       "        text-align: right;\n",
       "    }\n",
       "</style>\n",
       "<table border=\"1\" class=\"dataframe\">\n",
       "  <thead>\n",
       "    <tr style=\"text-align: right;\">\n",
       "      <th></th>\n",
       "      <th>X</th>\n",
       "      <th>Y</th>\n",
       "    </tr>\n",
       "  </thead>\n",
       "  <tbody>\n",
       "    <tr>\n",
       "      <th>102</th>\n",
       "      <td>22.92</td>\n",
       "      <td>446.08</td>\n",
       "    </tr>\n",
       "    <tr>\n",
       "      <th>103</th>\n",
       "      <td>12.55</td>\n",
       "      <td>474.35</td>\n",
       "    </tr>\n",
       "    <tr>\n",
       "      <th>104</th>\n",
       "      <td>9.38</td>\n",
       "      <td>481.96</td>\n",
       "    </tr>\n",
       "    <tr>\n",
       "      <th>105</th>\n",
       "      <td>10.28</td>\n",
       "      <td>479.66</td>\n",
       "    </tr>\n",
       "    <tr>\n",
       "      <th>106</th>\n",
       "      <td>30.31</td>\n",
       "      <td>435.28</td>\n",
       "    </tr>\n",
       "    <tr>\n",
       "      <th>107</th>\n",
       "      <td>25.34</td>\n",
       "      <td>434.86</td>\n",
       "    </tr>\n",
       "    <tr>\n",
       "      <th>108</th>\n",
       "      <td>30.47</td>\n",
       "      <td>435.72</td>\n",
       "    </tr>\n",
       "    <tr>\n",
       "      <th>109</th>\n",
       "      <td>20.18</td>\n",
       "      <td>454.14</td>\n",
       "    </tr>\n",
       "    <tr>\n",
       "      <th>110</th>\n",
       "      <td>21.31</td>\n",
       "      <td>455.76</td>\n",
       "    </tr>\n",
       "    <tr>\n",
       "      <th>111</th>\n",
       "      <td>22.10</td>\n",
       "      <td>442.83</td>\n",
       "    </tr>\n",
       "    <tr>\n",
       "      <th>112</th>\n",
       "      <td>20.09</td>\n",
       "      <td>449.47</td>\n",
       "    </tr>\n",
       "    <tr>\n",
       "      <th>113</th>\n",
       "      <td>22.36</td>\n",
       "      <td>445.76</td>\n",
       "    </tr>\n",
       "    <tr>\n",
       "      <th>114</th>\n",
       "      <td>9.43</td>\n",
       "      <td>473.57</td>\n",
       "    </tr>\n",
       "    <tr>\n",
       "      <th>115</th>\n",
       "      <td>28.86</td>\n",
       "      <td>435.75</td>\n",
       "    </tr>\n",
       "    <tr>\n",
       "      <th>116</th>\n",
       "      <td>23.25</td>\n",
       "      <td>437.96</td>\n",
       "    </tr>\n",
       "    <tr>\n",
       "      <th>117</th>\n",
       "      <td>22.70</td>\n",
       "      <td>438.59</td>\n",
       "    </tr>\n",
       "    <tr>\n",
       "      <th>118</th>\n",
       "      <td>21.30</td>\n",
       "      <td>444.21</td>\n",
       "    </tr>\n",
       "    <tr>\n",
       "      <th>119</th>\n",
       "      <td>19.94</td>\n",
       "      <td>459.47</td>\n",
       "    </tr>\n",
       "    <tr>\n",
       "      <th>120</th>\n",
       "      <td>14.97</td>\n",
       "      <td>465.54</td>\n",
       "    </tr>\n",
       "    <tr>\n",
       "      <th>121</th>\n",
       "      <td>13.83</td>\n",
       "      <td>458.85</td>\n",
       "    </tr>\n",
       "  </tbody>\n",
       "</table>\n",
       "</div>"
      ],
      "text/plain": [
       "         X       Y\n",
       "102  22.92  446.08\n",
       "103  12.55  474.35\n",
       "104   9.38  481.96\n",
       "105  10.28  479.66\n",
       "106  30.31  435.28\n",
       "107  25.34  434.86\n",
       "108  30.47  435.72\n",
       "109  20.18  454.14\n",
       "110  21.31  455.76\n",
       "111  22.10  442.83\n",
       "112  20.09  449.47\n",
       "113  22.36  445.76\n",
       "114   9.43  473.57\n",
       "115  28.86  435.75\n",
       "116  23.25  437.96\n",
       "117  22.70  438.59\n",
       "118  21.30  444.21\n",
       "119  19.94  459.47\n",
       "120  14.97  465.54\n",
       "121  13.83  458.85"
      ]
     },
     "execution_count": 3,
     "metadata": {},
     "output_type": "execute_result"
    }
   ],
   "source": [
    "# Selecting the rows for our group 6\n",
    "group_no = 6\n",
    "\n",
    "df = df_raw[((group_no-1)*20+2) : (group_no*20+1)+1]\n",
    "df"
   ]
  },
  {
   "cell_type": "code",
   "execution_count": 4,
   "id": "4a930212-d495-4273-8a35-8f67489fa003",
   "metadata": {},
   "outputs": [
    {
     "data": {
      "text/html": [
       "<div>\n",
       "<style scoped>\n",
       "    .dataframe tbody tr th:only-of-type {\n",
       "        vertical-align: middle;\n",
       "    }\n",
       "\n",
       "    .dataframe tbody tr th {\n",
       "        vertical-align: top;\n",
       "    }\n",
       "\n",
       "    .dataframe thead th {\n",
       "        text-align: right;\n",
       "    }\n",
       "</style>\n",
       "<table border=\"1\" class=\"dataframe\">\n",
       "  <thead>\n",
       "    <tr style=\"text-align: right;\">\n",
       "      <th></th>\n",
       "      <th>X</th>\n",
       "      <th>Y</th>\n",
       "    </tr>\n",
       "  </thead>\n",
       "  <tbody>\n",
       "    <tr>\n",
       "      <th>count</th>\n",
       "      <td>20.000000</td>\n",
       "      <td>20.000000</td>\n",
       "    </tr>\n",
       "    <tr>\n",
       "      <th>mean</th>\n",
       "      <td>20.078500</td>\n",
       "      <td>452.490500</td>\n",
       "    </tr>\n",
       "    <tr>\n",
       "      <th>std</th>\n",
       "      <td>6.490794</td>\n",
       "      <td>15.613711</td>\n",
       "    </tr>\n",
       "    <tr>\n",
       "      <th>min</th>\n",
       "      <td>9.380000</td>\n",
       "      <td>434.860000</td>\n",
       "    </tr>\n",
       "    <tr>\n",
       "      <th>25%</th>\n",
       "      <td>14.685000</td>\n",
       "      <td>438.432500</td>\n",
       "    </tr>\n",
       "    <tr>\n",
       "      <th>50%</th>\n",
       "      <td>21.305000</td>\n",
       "      <td>447.775000</td>\n",
       "    </tr>\n",
       "    <tr>\n",
       "      <th>75%</th>\n",
       "      <td>23.002500</td>\n",
       "      <td>460.987500</td>\n",
       "    </tr>\n",
       "    <tr>\n",
       "      <th>max</th>\n",
       "      <td>30.470000</td>\n",
       "      <td>481.960000</td>\n",
       "    </tr>\n",
       "  </tbody>\n",
       "</table>\n",
       "</div>"
      ],
      "text/plain": [
       "               X           Y\n",
       "count  20.000000   20.000000\n",
       "mean   20.078500  452.490500\n",
       "std     6.490794   15.613711\n",
       "min     9.380000  434.860000\n",
       "25%    14.685000  438.432500\n",
       "50%    21.305000  447.775000\n",
       "75%    23.002500  460.987500\n",
       "max    30.470000  481.960000"
      ]
     },
     "execution_count": 4,
     "metadata": {},
     "output_type": "execute_result"
    }
   ],
   "source": [
    "# Info about the dataset\n",
    "df.describe()"
   ]
  },
  {
   "cell_type": "code",
   "execution_count": 5,
   "id": "5df77b1f-8ec5-4f44-a812-641f2994dc35",
   "metadata": {},
   "outputs": [],
   "source": [
    "# Defining X and Y array values\n",
    "X = df['X'].values # Temperature on the Celsius scale\n",
    "Y = df['Y'].values # Net hourly electrical energy output in MW"
   ]
  },
  {
   "cell_type": "code",
   "execution_count": 6,
   "id": "4eb926b6-ea2b-4a5d-8397-997055ee95d5",
   "metadata": {},
   "outputs": [
    {
     "data": {
      "image/png": "[encoded data removed]",
      "text/plain": [
       "<Figure size 640x480 with 1 Axes>"
      ]
     },
     "metadata": {},
     "output_type": "display_data"
    }
   ],
   "source": [
    "# Plot of all the data points on a graph\n",
    "plt.scatter(X, Y)\n",
    "plt.show()"
   ]
  },
  {
   "cell_type": "code",
   "execution_count": 7,
   "id": "2d845bbe-67c4-481e-bbd9-d425c4bb3679",
   "metadata": {},
   "outputs": [],
   "source": [
    "\n",
    "# mymodel = np.poly1d(np.polyfit(X, Y, 2)) # 2nd Degree polynomial for the given Regression model\n",
    "\n",
    "# myline = np.linspace(min(X), max(X), 100)\n",
    "\n",
    "# plt.scatter(X, Y)\n",
    "# plt.plot(myline, mymodel(myline))\n",
    "# plt.show()"
   ]
  },
  {
   "cell_type": "code",
   "execution_count": 8,
   "id": "d17772f6-7ef0-4035-ad4a-8f40f960f678",
   "metadata": {},
   "outputs": [],
   "source": [
    "# from sklearn.metrics import r2_score\n",
    "# print(r2_score(Y, mymodel(X)))"
   ]
  },
  {
   "cell_type": "code",
   "execution_count": 9,
   "id": "79c88ea6-603c-4a30-a459-15e25a1ef6fd",
   "metadata": {},
   "outputs": [],
   "source": [
    "# Predicting the the values\n",
    "# tem = float(input('Predict Net hourly electrical energy output for what Temperature:'))\n",
    "# energy = mymodel(tem)\n",
    "# print(energy)"
   ]
  },
  {
   "cell_type": "code",
   "execution_count": null,
   "id": "d064a877-224c-48bc-b4dd-ba6fb98970c4",
   "metadata": {},
   "outputs": [],
   "source": []
  },
  {
   "cell_type": "code",
   "execution_count": null,
   "id": "2c4ec050-8b04-43a2-bb17-337a1300da53",
   "metadata": {},
   "outputs": [],
   "source": []
  },
  {
   "cell_type": "code",
   "execution_count": 10,
   "id": "1a0c8e25-60d5-47ad-b742-306850b2a9bb",
   "metadata": {},
   "outputs": [],
   "source": [
    "# import numpy as np\n",
    "# import pandas as pd\n",
    "\n",
    "# # Load the data from the Excel file\n",
    "# data_path = '/mnt/data/your_file.xlsx'  # Replace with the correct path\n",
    "# data = pd.read_excel(data_path)\n",
    "\n",
    "# # Extract the input (Temperature) and output (Energy output)\n",
    "# X = data.iloc[:, 0].values  # First column: Temperature\n",
    "# Y = data.iloc[:, 1].values  # Second column: Energy output\n",
    "\n",
    "# Number of data points"
   ]
  },
  {
   "cell_type": "code",
   "execution_count": 11,
   "id": "3334b1ce-326e-4124-a131-d7b1844c8c9a",
   "metadata": {},
   "outputs": [],
   "source": [
    "# Length of data\n",
    "n = len(X)"
   ]
  },
  {
   "cell_type": "code",
   "execution_count": 12,
   "id": "f2a79473-4516-4433-bae3-828c64a8ea96",
   "metadata": {},
   "outputs": [
    {
     "data": {
      "text/plain": [
       "array([[  1.    ,  22.92  , 525.3264],\n",
       "       [  1.    ,  12.55  , 157.5025],\n",
       "       [  1.    ,   9.38  ,  87.9844],\n",
       "       [  1.    ,  10.28  , 105.6784],\n",
       "       [  1.    ,  30.31  , 918.6961],\n",
       "       [  1.    ,  25.34  , 642.1156],\n",
       "       [  1.    ,  30.47  , 928.4209],\n",
       "       [  1.    ,  20.18  , 407.2324],\n",
       "       [  1.    ,  21.31  , 454.1161],\n",
       "       [  1.    ,  22.1   , 488.41  ],\n",
       "       [  1.    ,  20.09  , 403.6081],\n",
       "       [  1.    ,  22.36  , 499.9696],\n",
       "       [  1.    ,   9.43  ,  88.9249],\n",
       "       [  1.    ,  28.86  , 832.8996],\n",
       "       [  1.    ,  23.25  , 540.5625],\n",
       "       [  1.    ,  22.7   , 515.29  ],\n",
       "       [  1.    ,  21.3   , 453.69  ],\n",
       "       [  1.    ,  19.94  , 397.6036],\n",
       "       [  1.    ,  14.97  , 224.1009],\n",
       "       [  1.    ,  13.83  , 191.2689]])"
      ]
     },
     "execution_count": 12,
     "metadata": {},
     "output_type": "execute_result"
    }
   ],
   "source": [
    "# Column of ones for theta_0 value, \n",
    "# X for theta_1 values and \n",
    "# X^2 values for theta_2, of the regression model equation\n",
    "X = np.transpose(np.array([np.ones(n), X, X**2]))\n",
    "X"
   ]
  },
  {
   "cell_type": "code",
   "execution_count": 13,
   "id": "a2bbce88-0c65-4009-bb32-caa32b06e2f2",
   "metadata": {},
   "outputs": [],
   "source": [
    "# theta = np.ones(3)\n",
    "# theta\n",
    "# np.dot(X, theta)"
   ]
  },
  {
   "cell_type": "code",
   "execution_count": 14,
   "id": "5c4d77ea-a36f-4dcf-b2db-6d397b9d2bc6",
   "metadata": {},
   "outputs": [],
   "source": [
    "# Initializing the theta parameters (theta_0, theta_1, theta_2)\n",
    "theta = np.zeros(3)"
   ]
  },
  {
   "cell_type": "code",
   "execution_count": 15,
   "id": "3bd61dd1-0e75-4aa9-acfb-6e57f5b23f73",
   "metadata": {},
   "outputs": [],
   "source": [
    "# Polynomial regression function\n",
    "# function returns the regression model output with the current theta parameter values\n",
    "def poly_reg_function(X, theta):\n",
    "    X_dot_theta = np.dot(X, theta)\n",
    "    return X_dot_theta"
   ]
  },
  {
   "cell_type": "code",
   "execution_count": 16,
   "id": "9281f182-a590-4dd3-aa32-e65d75969ef2",
   "metadata": {},
   "outputs": [],
   "source": [
    "# Defining the cost function with the power of 4\n",
    "# function returns the cost value for the current parameters\n",
    "def cost_function(X, Y, theta):\n",
    "    cost_value = (1 / (4 * n)) * np.sum((Y - poly_reg_function(X, theta)) ** 4) # Cost function as defined in the assignment\n",
    "    return cost_value"
   ]
  },
  {
   "cell_type": "code",
   "execution_count": 17,
   "id": "5733e2c9-d27b-4a4c-9c72-dc5a5323b361",
   "metadata": {},
   "outputs": [
    {
     "data": {
      "text/plain": [
       "array([-1.85925564e+09, -3.61993256e+10, -7.81468621e+11])"
      ]
     },
     "execution_count": 17,
     "metadata": {},
     "output_type": "execute_result"
    }
   ],
   "source": [
    "predictions = poly_reg_function(X, theta)\n",
    "errors = predictions - Y\n",
    "np.dot(np.transpose(X), (errors ** 3))"
   ]
  },
  {
   "cell_type": "code",
   "execution_count": 18,
   "id": "f6ab807f-93da-4c40-b948-d996362700ce",
   "metadata": {},
   "outputs": [],
   "source": [
    "# Defining the gradient descent function\n",
    "def gradient_descent(X, Y, theta, alpha, iterations):\n",
    "    cost_history = []\n",
    "\n",
    "    for i in range(iterations):\n",
    "        predictions = poly_reg_function(X, theta)\n",
    "        errors = predictions - Y\n",
    "        \n",
    "        # Gradient / slope computation\n",
    "        grad = (1 / n) * np.dot(np.transpose(X), (errors ** 3))  # Derivative of cost function with power of 4\n",
    "        \n",
    "        # Updates theta parameters\n",
    "        theta = theta - (alpha * grad) # Gives the updated values of theta_0, theta_1 and theta_2\n",
    "        # here alpha is the learning rate which controls the step sizes\n",
    "        \n",
    "        # Computes and stores the latest cost value with the new parameters\n",
    "        cost = cost_function(X, Y, theta)\n",
    "        cost_history.append(cost)\n",
    "    \n",
    "    return theta, cost_history"
   ]
  },
  {
   "cell_type": "code",
   "execution_count": 19,
   "id": "a6852751-78b5-4185-9790-cbe50a1f830a",
   "metadata": {},
   "outputs": [
    {
     "name": "stdout",
     "output_type": "stream",
     "text": [
      "Optimized theta parameters: [nan nan nan]\n",
      "Historical costs: [7.704663489567615e+44, 1.2688283024740301e+150, inf, inf, nan, nan, nan, nan, nan, nan, nan, nan, nan, nan, nan, nan, nan, nan, nan, nan, nan, nan, nan, nan, nan, nan, nan, nan, nan, nan, nan, nan, nan, nan, nan, nan, nan, nan, nan, nan, nan, nan, nan, nan, nan, nan, nan, nan, nan, nan, nan, nan, nan, nan, nan, nan, nan, nan, nan, nan, nan, nan, nan, nan, nan, nan, nan, nan, nan, nan, nan, nan, nan, nan, nan, nan, nan, nan, nan, nan, nan, nan, nan, nan, nan, nan, nan, nan, nan, nan, nan, nan, nan, nan, nan, nan, nan, nan, nan, nan, nan, nan, nan, nan, nan, nan, nan, nan, nan, nan, nan, nan, nan, nan, nan, nan, nan, nan, nan, nan, nan, nan, nan, nan, nan, nan, nan, nan, nan, nan, nan, nan, nan, nan, nan, nan, nan, nan, nan, nan, nan, nan, nan, nan, nan, nan, nan, nan, nan, nan, nan, nan, nan, nan, nan, nan, nan, nan, nan, nan, nan, nan, nan, nan, nan, nan, nan, nan, nan, nan, nan, nan, nan, nan, nan, nan, nan, nan, nan, nan, nan, nan, nan, nan, nan, nan, nan, nan, nan, nan, nan, nan, nan, nan, nan, nan, nan, nan, nan, nan, nan, nan, nan, nan, nan, nan, nan, nan, nan, nan, nan, nan, nan, nan, nan, nan, nan, nan, nan, nan, nan, nan, nan, nan, nan, nan, nan, nan, nan, nan, nan, nan, nan, nan, nan, nan, nan, nan, nan, nan, nan, nan, nan, nan, nan, nan, nan, nan, nan, nan, nan, nan, nan, nan, nan, nan, nan, nan, nan, nan, nan, nan, nan, nan, nan, nan, nan, nan, nan, nan, nan, nan, nan, nan, nan, nan, nan, nan, nan, nan, nan, nan, nan, nan, nan, nan, nan, nan, nan, nan, nan, nan, nan, nan, nan, nan, nan, nan, nan, nan, nan, nan, nan, nan, nan, nan, nan, nan, nan, nan, nan, nan, nan, nan, nan, nan, nan, nan, nan, nan, nan, nan, nan, nan, nan, nan, nan, nan, nan, nan, nan, nan, nan, nan, nan, nan, nan, nan, nan, nan, nan, nan, nan, nan, nan, nan, nan, nan, nan, nan, nan, nan, nan, nan, nan, nan, nan, nan, nan, nan, nan, nan, nan, nan, nan, nan, nan, nan, nan, nan, nan, nan, nan, nan, nan, nan, nan, nan, nan, nan, nan, nan, nan, nan, nan, nan, nan, nan, nan, nan, nan, nan, nan, nan, nan, nan, nan, nan, nan, nan, nan, nan, nan, nan, nan, nan, nan, nan, nan, nan, nan, nan, nan, nan, nan, nan, nan, nan, nan, nan, nan, nan, nan, nan, nan, nan, nan, nan, nan, nan, nan, nan, nan, nan, nan, nan, nan, nan, nan, nan, nan, nan, nan, nan, nan, nan, nan, nan, nan, nan, nan, nan, nan, nan, nan, nan, nan, nan, nan, nan, nan, nan, nan, nan, nan, nan, nan, nan, nan, nan, nan, nan, nan, nan, nan, nan, nan, nan, nan, nan, nan, nan, nan, nan, nan, nan, nan, nan, nan, nan, nan, nan, nan, nan, nan, nan, nan, nan, nan, nan, nan, nan, nan, nan, nan, nan, nan, nan, nan, nan, nan, nan, nan, nan, nan, nan, nan, nan, nan, nan, nan, nan, nan, nan, nan, nan, nan, nan, nan, nan, nan, nan, nan, nan, nan, nan, nan, nan, nan, nan, nan, nan, nan, nan, nan, nan, nan, nan, nan, nan, nan, nan, nan, nan, nan, nan, nan, nan, nan, nan, nan, nan, nan, nan, nan, nan, nan, nan, nan, nan, nan, nan, nan, nan, nan, nan, nan, nan, nan, nan, nan, nan, nan, nan, nan, nan, nan, nan, nan, nan, nan, nan, nan, nan, nan, nan, nan, nan, nan, nan, nan, nan, nan, nan, nan, nan, nan, nan, nan, nan, nan, nan, nan, nan, nan, nan, nan, nan, nan, nan, nan, nan, nan, nan, nan, nan, nan, nan, nan, nan, nan, nan, nan, nan, nan, nan, nan, nan, nan, nan, nan, nan, nan, nan, nan, nan, nan, nan, nan, nan, nan, nan, nan, nan, nan, nan, nan, nan, nan, nan, nan, nan, nan, nan, nan, nan, nan, nan, nan, nan, nan, nan, nan, nan, nan, nan, nan, nan, nan, nan, nan, nan, nan, nan, nan, nan, nan, nan, nan, nan, nan, nan, nan, nan, nan, nan, nan, nan, nan, nan, nan, nan, nan, nan, nan, nan, nan, nan, nan, nan, nan, nan, nan, nan, nan, nan, nan, nan, nan, nan, nan, nan, nan, nan, nan, nan, nan, nan, nan, nan, nan, nan, nan, nan, nan, nan, nan, nan, nan, nan, nan, nan, nan, nan, nan, nan, nan, nan, nan, nan, nan, nan, nan, nan, nan, nan, nan, nan, nan, nan, nan, nan, nan, nan, nan, nan, nan, nan, nan, nan, nan, nan, nan, nan, nan, nan, nan, nan, nan, nan, nan, nan, nan, nan, nan, nan, nan, nan, nan, nan, nan, nan, nan, nan, nan, nan, nan, nan, nan, nan, nan, nan, nan, nan, nan, nan, nan, nan, nan, nan, nan, nan, nan, nan, nan, nan, nan, nan, nan, nan, nan, nan, nan, nan, nan, nan, nan, nan, nan, nan, nan, nan, nan, nan, nan, nan, nan, nan, nan, nan, nan, nan, nan, nan, nan, nan, nan, nan, nan, nan, nan, nan, nan, nan, nan, nan, nan, nan, nan, nan, nan, nan, nan, nan, nan, nan, nan, nan, nan, nan, nan, nan, nan, nan, nan, nan, nan, nan, nan, nan, nan, nan, nan, nan, nan, nan, nan, nan, nan, nan, nan, nan, nan, nan, nan, nan, nan, nan, nan, nan, nan, nan, nan, nan, nan, nan, nan, nan, nan, nan, nan, nan, nan, nan, nan, nan, nan, nan, nan, nan, nan, nan, nan, nan, nan, nan, nan, nan, nan, nan, nan, nan, nan, nan, nan, nan, nan, nan, nan, nan, nan, nan, nan, nan, nan, nan, nan, nan, nan, nan, nan, nan, nan, nan, nan, nan, nan, nan, nan, nan, nan, nan, nan, nan, nan, nan, nan, nan, nan, nan, nan, nan, nan, nan, nan, nan, nan, nan, nan, nan, nan, nan, nan, nan, nan, nan, nan, nan, nan, nan, nan, nan, nan, nan, nan, nan, nan, nan, nan, nan]\n"
     ]
    },
    {
     "name": "stderr",
     "output_type": "stream",
     "text": [
      "C:\\Users\\prave\\AppData\\Local\\Temp\\ipykernel_23068\\754635814.py:4: RuntimeWarning: overflow encountered in power\n",
      "  cost_value = (1 / (4 * n)) * np.sum((Y - poly_reg_function(X, theta)) ** 4) # Cost function as defined in the assignment\n",
      "C:\\Users\\prave\\AppData\\Local\\Temp\\ipykernel_23068\\3628920906.py:10: RuntimeWarning: overflow encountered in power\n",
      "  grad = (1 / n) * np.dot(np.transpose(X), (errors ** 3))  # Derivative of cost function with power of 4\n",
      "C:\\Users\\prave\\AppData\\Local\\Temp\\ipykernel_23068\\3628920906.py:13: RuntimeWarning: invalid value encountered in subtract\n",
      "  theta = theta - (alpha * grad) # Gives the updated values of theta_0, theta_1 and theta_2\n"
     ]
    }
   ],
   "source": [
    "# Parameters for gradient descent\n",
    "alpha = 0.01  # Defines the Learning rate\n",
    "iterations = 1000  # Number of iterations to undergo\n",
    "\n",
    "# Perform gradient descent to optimize theta\n",
    "theta_optimal, cost_history = gradient_descent(X, Y, theta, alpha, iterations)\n",
    "\n",
    "# Output the optimized parameters\n",
    "print(\"Optimized theta parameters:\", theta_optimal)\n",
    "print(\"Historical costs:\", cost_history)"
   ]
  },
  {
   "cell_type": "code",
   "execution_count": 20,
   "id": "7096fe61-ec37-40b7-a527-7dddce5b71a8",
   "metadata": {},
   "outputs": [],
   "source": [
    "# #gemini\n",
    "# import pandas as pd\n",
    "# import numpy as np\n",
    "# import matplotlib.pyplot as plt\n",
    "\n",
    "# # Read data from Excel file\n",
    "# def read_data(filename):\n",
    "#     data = pd.read_excel(filename)\n",
    "#     X = data['Temperature'].values.reshape(-1, 1)  # Input data (Temperature)\n",
    "#     Y = data['Net hourly electrical energy output'].values  # Output data (Energy output)\n",
    "#     return X, Y\n",
    "\n",
    "# # Polynomial regression model\n",
    "# def hypothesis(X, theta):\n",
    "#     return np.dot(X, theta)\n",
    "\n",
    "# # Cost function\n",
    "# def cost_function(X, Y, theta):\n",
    "#     m = len(Y)\n",
    "#     return 1 / (4 * m) * np.sum((hypothesis(X, theta) - Y) ** 4)\n",
    "\n",
    "# # Gradient descent optimization\n",
    "# def gradient_descent(X, Y, theta, alpha, num_iters):\n",
    "#     m = len(Y)\n",
    "#     J_history = np.zeros(num_iters)\n",
    "#     for i in range(num_iters):\n",
    "#         theta -= (alpha / m) * np.dot(X.T, (hypothesis(X, theta) - Y) ** 3)\n",
    "#         J_history[i] = cost_function(X, Y, theta)\n",
    "#     return theta, J_history\n",
    "\n",
    "# # Main function\n",
    "# def main():\n",
    "#     filename = 'your_data.xlsx'  # Replace with your Excel file name\n",
    "#     X, Y = read_data(filename)\n",
    "\n",
    "#     # Add polynomial features (adjust the degree as needed)\n",
    "#     degree = 2  # Example: Quadratic regression\n",
    "#     X_poly = np.hstack([X**i for i in range(degree + 1)])\n",
    "\n",
    "#     # Initialize parameters (adjust initial values if necessary)\n",
    "#     theta = np.zeros(degree + 1)\n",
    "\n",
    "#     # Set learning rate and number of iterations\n",
    "#     alpha = 0.01  # Learning rate\n",
    "#     num_iters = 1000  # Number of iterations\n",
    "\n",
    "#     # Perform gradient descent\n",
    "#     theta, J_history = gradient_descent(X_poly, Y, theta, alpha, num_iters)\n",
    "\n",
    "#     # Make predictions\n",
    "#     y_pred = hypothesis(X_poly, theta)\n",
    "\n",
    "#     # Plot results\n",
    "#     plt.scatter(X, Y, label='Actual Data')\n",
    "#     plt.plot(X, y_pred, label='Predicted Data', color='red')\n",
    "#     plt.xlabel('Temperature (Celsius)')\n",
    "#     plt.ylabel('Net hourly electrical energy output (MW)')\n",
    "#     plt.legend()\n",
    "#     plt.show()\n",
    "\n",
    "# if __name__ == '__main__':\n",
    "#     main()"
   ]
  }
 ],
 "metadata": {
  "kernelspec": {
   "display_name": "ml_env",
   "language": "python",
   "name": "ml_env"
  },
  "language_info": {
   "codemirror_mode": {
    "name": "ipython",
    "version": 3
   },
   "file_extension": ".py",
   "mimetype": "text/x-python",
   "name": "python",
   "nbconvert_exporter": "python",
   "pygments_lexer": "ipython3",
   "version": "3.12.3"
  }
 },
 "nbformat": 4,
 "nbformat_minor": 5
}
